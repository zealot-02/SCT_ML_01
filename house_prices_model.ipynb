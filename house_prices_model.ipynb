{
 "cells": [
  {
   "cell_type": "code",
   "execution_count": 16,
   "id": "34da92db",
   "metadata": {},
   "outputs": [
    {
     "name": "stdout",
     "output_type": "stream",
     "text": [
      "✅ submission.csv created successfully (sorted by Id)\n"
     ]
    }
   ],
   "source": [
    "import pandas as pd\n",
    "import numpy as np\n",
    "from sklearn.model_selection import cross_val_score, KFold\n",
    "from sklearn.preprocessing import LabelEncoder\n",
    "from sklearn.linear_model import Ridge\n",
    "from sklearn.metrics import mean_squared_error\n",
    "import xgboost as xgb\n",
    "\n",
    "train = pd.read_csv(\"train.csv\")\n",
    "test = pd.read_csv(\"test.csv\")\n",
    "\n",
    "test_ID = test[\"Id\"]\n",
    "y = train[\"SalePrice\"]\n",
    "train.drop([\"SalePrice\", \"Id\"], axis=1, inplace=True)\n",
    "test.drop(\"Id\", axis=1, inplace=True)\n",
    "\n",
    "data = pd.concat([train, test], axis=0)\n",
    "\n",
    "data.fillna(data.mean(numeric_only=True), inplace=True)\n",
    "for col in data.select_dtypes(include='object').columns:\n",
    "    data[col] = data[col].fillna(data[col].mode()[0])\n",
    "\n",
    "for col in data.select_dtypes(include='object').columns:\n",
    "    le = LabelEncoder()\n",
    "    data[col] = le.fit_transform(data[col])\n",
    "\n",
    "X_train = data[:len(y)]\n",
    "X_test = data[len(y):]\n",
    "\n",
    "xgb_model = xgb.XGBRegressor(\n",
    "    n_estimators=1000,\n",
    "    learning_rate=0.05,\n",
    "    max_depth=4,\n",
    "    subsample=0.8,\n",
    "    colsample_bytree=0.8,\n",
    "    random_state=42\n",
    ")\n",
    "xgb_model.fit(X_train, y)\n",
    "\n",
    "ridge_model = Ridge(alpha=10)\n",
    "ridge_model.fit(X_train, y)\n",
    "\n",
    "xgb_preds = xgb_model.predict(X_test)\n",
    "ridge_preds = ridge_model.predict(X_test)\n",
    "\n",
    "final_preds = 0.8 * xgb_preds + 0.2 * ridge_preds\n",
    "\n",
    "submission = pd.DataFrame({\n",
    "    \"Id\": test_ID,\n",
    "    \"SalePrice\": final_preds\n",
    "})\n",
    "submission = submission.sort_values(by=\"Id\")\n",
    "submission.to_csv(\"submission.csv\", index=False)\n",
    "print(\"✅ submission.csv created successfully (sorted by Id)\")\n"
   ]
  },
  {
   "cell_type": "code",
   "execution_count": 17,
   "id": "cb482fb5",
   "metadata": {},
   "outputs": [
    {
     "name": "stdout",
     "output_type": "stream",
     "text": [
      "📈 Cross-Validated RMSE: 27992.5172\n"
     ]
    }
   ],
   "source": [
    "cv = KFold(n_splits=5, shuffle=True, random_state=42)\n",
    "rmse = np.sqrt(-cross_val_score(\n",
    "    xgb_model, X_train, y,\n",
    "    scoring=\"neg_mean_squared_error\",\n",
    "    cv=cv\n",
    "))\n",
    "\n",
    "print(f\"📈 Cross-Validated RMSE: {rmse.mean():.4f}\")\n"
   ]
  }
 ],
 "metadata": {
  "kernelspec": {
   "display_name": "Python 3",
   "language": "python",
   "name": "python3"
  },
  "language_info": {
   "codemirror_mode": {
    "name": "ipython",
    "version": 3
   },
   "file_extension": ".py",
   "mimetype": "text/x-python",
   "name": "python",
   "nbconvert_exporter": "python",
   "pygments_lexer": "ipython3",
   "version": "3.10.0"
  }
 },
 "nbformat": 4,
 "nbformat_minor": 5
}
